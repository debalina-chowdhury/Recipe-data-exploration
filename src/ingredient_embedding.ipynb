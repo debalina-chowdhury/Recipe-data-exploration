{
 "cells": [
  {
   "cell_type": "code",
   "execution_count": 7,
   "metadata": {},
   "outputs": [],
   "source": [
    "# Import Libs\n",
    "import ast\n",
    "import math\n",
    "import itertools\n",
    "import operator\n",
    "import numpy as np\n",
    "import string\n",
    "import random\n",
    "import string\n",
    "import pandas as pd\n",
    "import matplotlib.pyplot as plt\n",
    "from utils import *\n",
    "import seaborn as sns"
   ]
  },
  {
   "cell_type": "code",
   "execution_count": null,
   "metadata": {},
   "outputs": [],
   "source": [
    "data_recipes=pd.read_csv('data/RAW_recipes.csv', index_col=1, usecols=['id','name','ingredients']) \n",
    "data_recipes.to_csv('data/ingredient_graph.csv')"
   ]
  },
  {
   "cell_type": "code",
   "execution_count": 5,
   "metadata": {},
   "outputs": [],
   "source": [
    "def ingredient_stat(data):\n",
    "    \"\"\"\n",
    "    count ingredient and build connections\n",
    "    :param data: dataframe of ingredients\n",
    "    :return: graph\n",
    "    \"\"\"\n",
    "\n",
    "    # count ingredient\n",
    "    ingredients = data['ingredients'].tolist()\n",
    "    food_dict = {}\n",
    "    for ingredient in ingredients:\n",
    "        if isinstance(ingredient, str) and ingredient.startswith('[') and ingredient.endswith(']'):\n",
    "            list_data = ast.literal_eval(ingredient)\n",
    "            for item in list_data:\n",
    "                if item in food_dict:\n",
    "                    food_dict[item] += 1\n",
    "                else:\n",
    "                    food_dict[item] = 1\n",
    "    sorted_food_dict = dict(sorted(food_dict.items(), key=operator.itemgetter(1), reverse=True)) \n",
    "    return sorted_food_dict"
   ]
  },
  {
   "cell_type": "code",
   "execution_count": 6,
   "metadata": {},
   "outputs": [
    {
     "name": "stdout",
     "output_type": "stream",
     "text": [
      "success write dict to json: data/ingredient_graph.json\n",
      "data/ingredient_graph.json successfully loaded!\n",
      "success write dict to json: data/high_freq_food_dict.json\n",
      "<class 'dict'>\n"
     ]
    },
    {
     "data": {
      "image/png": "[encoded data removed]",
      "text/plain": [
       "<Figure size 432x288 with 1 Axes>"
      ]
     },
     "metadata": {
      "needs_background": "light"
     },
     "output_type": "display_data"
    }
   ],
   "source": [
    "data = pd.read_csv('data/ingredient_graph.csv', index_col=0)\n",
    "food_dict = ingredient_stat(data)\n",
    "save_dict_to_json(food_dict, 'data/ingredient_graph.json')\n",
    "food_dict = read_dict_from_json('data/ingredient_graph.json')\n",
    "\n",
    "high_freq_food_dict = {}\n",
    "for food, freq in food_dict.items():\n",
    "    if freq >= 15:\n",
    "        high_freq_food_dict[food] = freq\n",
    "save_dict_to_json(high_freq_food_dict, 'data/high_freq_food_dict.json')\n",
    "print(type(food_dict))\n",
    "plt.plot(list(food_dict.values()))\n",
    "plt.show()"
   ]
  },
  {
   "cell_type": "code",
   "execution_count": 8,
   "metadata": {},
   "outputs": [
    {
     "name": "stdout",
     "output_type": "stream",
     "text": [
      "data/high_freq_food_dict.json successfully loaded!\n",
      "success write dict to json: data/h_food2index.json\n",
      "success write dict to json: data/h_index2food.json\n"
     ]
    }
   ],
   "source": [
    "high_freq_ingredient = read_dict_from_json('data/high_freq_food_dict.json')\n",
    "\n",
    "h_food2index = {}\n",
    "h_index2food = {}\n",
    "\n",
    "for idx, ingredient in enumerate(high_freq_ingredient.keys()):\n",
    "    h_food2index[ingredient] = idx\n",
    "    h_index2food[idx] = ingredient\n",
    "\n",
    "save_dict_to_json(h_food2index, 'data/h_food2index.json')\n",
    "save_dict_to_json(h_index2food, 'data/h_index2food.json')"
   ]
  },
  {
   "cell_type": "code",
   "execution_count": 16,
   "metadata": {},
   "outputs": [
    {
     "name": "stdout",
     "output_type": "stream",
     "text": [
      "data/h_food2index.json successfully loaded!\n",
      "data/h_index2food.json successfully loaded!\n"
     ]
    }
   ],
   "source": [
    "\n"
   ]
  },
  {
   "cell_type": "code",
   "execution_count": 17,
   "metadata": {},
   "outputs": [],
   "source": []
  },
  {
   "cell_type": "code",
   "execution_count": 21,
   "metadata": {},
   "outputs": [
    {
     "name": "stdout",
     "output_type": "stream",
     "text": [
      "data/h_food2index.json successfully loaded!\n",
      "data/h_index2food.json successfully loaded!\n"
     ]
    }
   ],
   "source": [
    "def tuple2string(t):\n",
    "    \"\"\"\n",
    "    convert a tuple to a string\n",
    "    \"\"\"\n",
    "    return '{}_{}'.format(t[0], t[1])\n",
    "\n",
    "def string2tuple(s):\n",
    "    \"\"\"\n",
    "    convert a string to a tuple\n",
    "    \"\"\"\n",
    "    return tuple(s.split('_'))\n",
    "\n",
    "\n",
    "def build_connection(ing_list):\n",
    "    \"\"\"\n",
    "    all effective ingredient in a dish will be connected\n",
    "    :param ing_list: list of ingredients\n",
    "    :return: a list of two-element tuples\n",
    "    \"\"\"\n",
    "    assert isinstance(ing_list, list)\n",
    "\n",
    "    ing_idx_list = []\n",
    "    for i in ing_list:\n",
    "        if i in h_food2index:\n",
    "            ing_idx_list.append(h_food2index[i])\n",
    "\n",
    "    if len(ing_idx_list) < 2: return []\n",
    "    # add every two item index in the list to a two-element tuple\n",
    "    connection_lists = list(itertools.combinations(ing_idx_list, 2))\n",
    "    return connection_lists\n",
    "\n",
    "file_path = 'data/ingredient_graph.csv'\n",
    "df = pd.read_csv(file_path, index_col=0)\n",
    "h_food2index = read_dict_from_json('data/h_food2index.json')\n",
    "h_index2food = read_dict_from_json('data/h_index2food.json')\n",
    "all_connection_dict = {}\n",
    "\n",
    "for idx, row in df.iterrows():\n",
    "    if isinstance(row['ingredients'], str) and row['ingredients'].startswith('[') and row['ingredients'].endswith(']'):\n",
    "        food_ingredient = ast.literal_eval(row['ingredients'])\n",
    "        assert isinstance(food_ingredient, list), 'ingredient is not a list'\n",
    "        connected_ing = build_connection(food_ingredient)\n",
    "        for pair in connected_ing:\n",
    "            pair_s = tuple2string(pair)\n",
    "            if pair_s in all_connection_dict:\n",
    "                all_connection_dict[pair_s] += 1\n",
    "            else:\n",
    "                all_connection_dict[pair_s] = 1"
   ]
  },
  {
   "cell_type": "code",
   "execution_count": 22,
   "metadata": {},
   "outputs": [
    {
     "name": "stdout",
     "output_type": "stream",
     "text": [
      "success write dict to json: data/all_connection_dict.json\n",
      "data/all_connection_dict.json successfully loaded!\n",
      "success write dict to json: data/sorted_all_connection_dict.json\n"
     ]
    }
   ],
   "source": [
    "save_dict_to_json(all_connection_dict, 'data/all_connection_dict.json')\n",
    "\n",
    "all_connection_dict = read_dict_from_json('data/all_connection_dict.json')\n",
    "all_connection_list = list(all_connection_dict.keys())\n",
    "ing_connection_list = [string2tuple(pair) for pair in all_connection_list]\n",
    "idx_connection_list = list(all_connection_dict.values())\n",
    "\n",
    "sorted_connection_dict = dict(sorted(all_connection_dict.items(), key=operator.itemgetter(1), reverse=True)) \n",
    "save_dict_to_json(sorted_connection_dict, 'data/sorted_all_connection_dict.json')"
   ]
  },
  {
   "cell_type": "code",
   "execution_count": 23,
   "metadata": {},
   "outputs": [
    {
     "data": {
      "image/png": "[encoded data removed]",
      "text/plain": [
       "<Figure size 432x288 with 1 Axes>"
      ]
     },
     "metadata": {
      "needs_background": "light"
     },
     "output_type": "display_data"
    }
   ],
   "source": [
    "plt.plot(list(sorted_connection_dict.values()))\n",
    "plt.show()"
   ]
  },
  {
   "cell_type": "code",
   "execution_count": 24,
   "metadata": {},
   "outputs": [],
   "source": [
    "def get_connection_weight(i, j):\n",
    "    \"\"\"\n",
    "    get the weight of the connection between i and j\n",
    "    :param i: the first node (int)\n",
    "    :param j: the second node (int)\n",
    "    :return: (i, j, weight)\n",
    "    \"\"\"\n",
    "    assert i != j\n",
    "    assert isinstance(i, int)\n",
    "    assert isinstance(j, int)\n",
    "    freq = all_connection_dict['{}_{}'.format(i, j)]\n",
    "    return (i, j, np.log(freq))\n"
   ]
  },
  {
   "cell_type": "code",
   "execution_count": 28,
   "metadata": {},
   "outputs": [
    {
     "name": "stdout",
     "output_type": "stream",
     "text": [
      "data/h_index2food.json successfully loaded!\n",
      "data/sorted_all_connection_dict.json successfully loaded!\n"
     ]
    }
   ],
   "source": [
    "index2food = read_dict_from_json('data/h_index2food.json')\n",
    "# all_idx_list, all_food_list = list(index2food.keys()), list(index2food.values())\n",
    "all_connection_dict = read_dict_from_json('data/sorted_all_connection_dict.json')\n",
    "all_connection_list = list(all_connection_dict.keys())\n",
    "idx_connection_list = [string2tuple(pair) for pair in all_connection_list[500:700]]\n",
    "idx_connection_list = [get_connection_weight(int(x1), int(x2)) for x1, x2 in idx_connection_list]\n",
    "# print(idx_connection_list)\n",
    "\n",
    "x = set()\n",
    "for pair in idx_connection_list:\n",
    "    if pair[0] not in x:\n",
    "        x.add(pair[0])\n",
    "    if pair[1] not in x:\n",
    "        x.add(pair[1]) \n",
    "\n",
    "all_idx_list = list(x)\n",
    "all_food_list = [index2food[str(idx)] for idx in all_idx_list]\n"
   ]
  },
  {
   "cell_type": "code",
   "execution_count": 33,
   "metadata": {},
   "outputs": [
    {
     "data": {
      "text/html": [
       "\n",
       "        <iframe\n",
       "            width=\"500px\"\n",
       "            height=\"500px\"\n",
       "            src=\"food_connection.html\"\n",
       "            frameborder=\"0\"\n",
       "            allowfullscreen\n",
       "            \n",
       "        ></iframe>\n",
       "        "
      ],
      "text/plain": [
       "<IPython.lib.display.IFrame at 0x1f8cb7f2a90>"
      ]
     },
     "execution_count": 33,
     "metadata": {},
     "output_type": "execute_result"
    }
   ],
   "source": [
    "from pyvis.network import Network\n",
    "import numpy as np\n",
    "\n",
    "net = Network(notebook=True)\n",
    "net.add_nodes(all_idx_list, label=all_food_list)\n",
    "net.add_edges(idx_connection_list)\n",
    "net.show_buttons(filter_=['physics'])\n",
    "\n",
    "net.show('food_connection.html')\n"
   ]
  },
  {
   "cell_type": "markdown",
   "metadata": {},
   "source": [
    "# Now we will start to work on ingredient's embeddings"
   ]
  },
  {
   "cell_type": "code",
   "execution_count": 34,
   "metadata": {},
   "outputs": [],
   "source": [
    "import pdb\n",
    "import torch\n",
    "from torch_geometric.data import Data, DataLoader\n",
    "from torch_geometric.nn import Node2Vec \n",
    "from utils import *\n",
    "# from draw_graph import get_connection_weight"
   ]
  },
  {
   "cell_type": "code",
   "execution_count": 35,
   "metadata": {},
   "outputs": [
    {
     "name": "stdout",
     "output_type": "stream",
     "text": [
      "data/h_index2food.json successfully loaded!\n",
      "data/sorted_all_connection_dict.json successfully loaded!\n",
      "(5031,)\n"
     ]
    }
   ],
   "source": [
    "index2food = read_dict_from_json('data/h_index2food.json')\n",
    "all_connection_dict = read_dict_from_json('data/sorted_all_connection_dict.json')\n",
    "all_connection_list = list(all_connection_dict.keys())\n",
    "idx_connection_list = [string2tuple(pair) for pair in all_connection_list]\n",
    "idx_connection_list = [[int(x1), int(x2)] for x1, x2 in idx_connection_list]\n",
    "\n",
    "edge_index = torch.tensor(idx_connection_list, dtype=torch.long)\n",
    "edge_index = torch.t(edge_index)\n",
    "edge_index_ = edge_index[[1, 0], :]\n",
    "new_edge_index = torch.concat((edge_index, edge_index_), dim=1)\n",
    "\n",
    "device = 'cuda' if torch.cuda.is_available() else 'cpu'\n",
    "model = Node2Vec(edge_index=new_edge_index, embedding_dim=64, walk_length=20,\n",
    "             context_size=10, walks_per_node=10,\n",
    "             num_negative_samples=1, p=1, q=1, sparse=True).to(device)\n",
    "\n",
    "loader = model.loader(batch_size=128, shuffle=True, num_workers=0)\n",
    "optimizer = torch.optim.SparseAdam(list(model.parameters()), lr=0.01)\n",
    "\n",
    "nodes = edge_index.numpy()\n",
    "nodes = np.unique(list(nodes[0, :]) + list(nodes[1, :]))\n",
    "print(nodes.shape)\n",
    "\n",
    "# np.random.seed(10)\n",
    "# # get the nodes\n",
    "# np.random.shuffle(nodes) # shuffle node order\n",
    "# print(len(nodes))"
   ]
  },
  {
   "cell_type": "code",
   "execution_count": 36,
   "metadata": {},
   "outputs": [
    {
     "name": "stdout",
     "output_type": "stream",
     "text": [
      "3521 755 755\n",
      "Epoch: 10, Loss: 1.2207\n",
      "Epoch: 20, Loss: 1.1792\n",
      "Epoch: 30, Loss: 1.1750\n",
      "Epoch: 40, Loss: 1.1732\n",
      "Epoch: 50, Loss: 1.1718\n",
      "Epoch: 60, Loss: 1.1727\n",
      "Epoch: 70, Loss: 1.1713\n",
      "Epoch: 80, Loss: 1.1707\n",
      "Epoch: 90, Loss: 1.1691\n",
      "Epoch: 100, Loss: 1.1685\n"
     ]
    }
   ],
   "source": [
    "# get train test and val sizes: (70% - 15% - 15%)\n",
    "train_size = int(len(nodes)*0.7)\n",
    "test_size = int(len(nodes)*0.85) - train_size\n",
    "val_size = len(nodes) - train_size - test_size\n",
    "\n",
    "# get train test and validation set of nodes\n",
    "train_set = nodes[0:train_size]\n",
    "test_set = nodes[train_size:train_size+test_size]\n",
    "val_set = nodes[train_size+test_size:]\n",
    "\n",
    "print(len(train_set), len(test_set), len(val_set))\n",
    "# build test train val masks\n",
    "\n",
    "train_mask = torch.zeros(len(nodes),dtype=torch.long, device=device)\n",
    "for i in train_set:\n",
    "    train_mask[i] = 1.\n",
    "\n",
    "test_mask = torch.zeros(len(nodes),dtype=torch.long, device=device)\n",
    "for i in test_set:\n",
    "    test_mask[i] = 1.\n",
    "    \n",
    "val_mask = torch.zeros(len(nodes),dtype=torch.long, device=device)\n",
    "for i in val_set:\n",
    "    val_mask[i] = 1.\n",
    "    \n",
    "data = Data(edge_index=new_edge_index)\n",
    "data.train_mask = train_mask\n",
    "data.test_mask = test_mask\n",
    "data.val_mask = val_mask\n",
    "\n",
    "def train():\n",
    "    model.train()\n",
    "    total_loss = 0\n",
    "    for pos_rw, neg_rw in loader:\n",
    "        optimizer.zero_grad()\n",
    "        loss = model.loss(pos_rw.to(device), neg_rw.to(device))\n",
    "        loss.backward()\n",
    "        optimizer.step()\n",
    "        total_loss += loss.item()\n",
    "    return total_loss / len(loader)\n",
    "\n",
    "@torch.no_grad()\n",
    "def test():\n",
    "    model.eval()\n",
    "    z = model()\n",
    "    acc = model.test(z[data.train_mask], data.y[data.train_mask],\n",
    "                     z[data.test_mask], data.y[data.test_mask],\n",
    "                     max_iter=10)\n",
    "    return acc\n",
    "\n",
    "for epoch in range(1, 101):\n",
    "    loss = train()\n",
    "    # acc = test()\n",
    "    if epoch % 10 == 0:\n",
    "        print(f'Epoch: {epoch:02d}, Loss: {loss:.4f}')\n"
   ]
  },
  {
   "cell_type": "code",
   "execution_count": 37,
   "metadata": {},
   "outputs": [
    {
     "name": "stdout",
     "output_type": "stream",
     "text": [
      "(5031, 2)\n"
     ]
    },
    {
     "data": {
      "image/png": "[encoded data removed]",
      "text/plain": [
       "<Figure size 432x288 with 1 Axes>"
      ]
     },
     "metadata": {
      "needs_background": "light"
     },
     "output_type": "display_data"
    }
   ],
   "source": [
    "z = model()\n",
    "# from tensor to numpy\n",
    "emb_64 = z.detach().cpu().numpy()\n",
    "\n",
    "from sklearn.decomposition import PCA\n",
    "# fit and transform using PCA\n",
    "pca = PCA(n_components=2)\n",
    "emb2d = pca.fit_transform(emb_64)\n",
    "print(emb2d.shape)\n",
    "\n",
    "plt.title(\"ingredient embedding in 2D\")\n",
    "plt.scatter(emb2d[:,0],emb2d[:,1])\n",
    "\n",
    "show_list = [0, 6, 20, 28]\n",
    "\n",
    "# for idx, ing in enumerate(list(index2food.values())[show_list]):\n",
    "\n",
    "for idx in show_list:\n",
    "    ing = index2food[str(idx)]\n",
    "    plt.scatter(emb2d[int(idx), 0],emb2d[int(idx), 1], label=ing)\n",
    "    plt.legend()\n",
    "\n",
    "plt.savefig('ingredient_embedding_2d.png')\n",
    "plt.show()"
   ]
  }
 ],
 "metadata": {
  "kernelspec": {
   "display_name": "Python 3",
   "language": "python",
   "name": "python3"
  },
  "language_info": {
   "codemirror_mode": {
    "name": "ipython",
    "version": 3
   },
   "file_extension": ".py",
   "mimetype": "text/x-python",
   "name": "python",
   "nbconvert_exporter": "python",
   "pygments_lexer": "ipython3",
   "version": "3.9.9"
  }
 },
 "nbformat": 4,
 "nbformat_minor": 4
}
